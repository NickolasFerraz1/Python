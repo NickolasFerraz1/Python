{
  "nbformat": 4,
  "nbformat_minor": 0,
  "metadata": {
    "colab": {
      "provenance": [],
      "authorship_tag": "ABX9TyN9ykZTin5g+yfL72YU26zM",
      "include_colab_link": true
    },
    "kernelspec": {
      "name": "python3",
      "display_name": "Python 3"
    },
    "language_info": {
      "name": "python"
    }
  },
  "cells": [
    {
      "cell_type": "markdown",
      "metadata": {
        "id": "view-in-github",
        "colab_type": "text"
      },
      "source": [
        "<a href=\"https://colab.research.google.com/github/NickolasFerraz1/python/blob/main/Projetos_aula_Python.ipynb\" target=\"_parent\"><img src=\"https://colab.research.google.com/assets/colab-badge.svg\" alt=\"Open In Colab\"/></a>"
      ]
    },
    {
      "cell_type": "markdown",
      "source": [
        "Desenvolva um algoritimo que ordene uma lista de números inteiros em ordem decrescente\n"
      ],
      "metadata": {
        "id": "rmDOykjXF_Ya"
      }
    },
    {
      "cell_type": "code",
      "execution_count": null,
      "metadata": {
        "id": "EnsQfvRQFcDl"
      },
      "outputs": [],
      "source": [
        "lista = []"
      ]
    },
    {
      "cell_type": "code",
      "source": [
        "lista = []\n",
        "\n",
        "for i in range(5):\n",
        "    num = int(input(f\"Digite o {i+1}° número da lista: \"))\n",
        "    lista.append(num)\n",
        "\n",
        "# Agora, o loop acabou, então 'i' não está mais disponível aqui.\n",
        "# print(i) # Isso geraria um erro, pois 'i' não está definido neste escopo.\n",
        "\n",
        "# Se você quiser verificar se o primeiro elemento é menor que os outros,\n",
        "# você precisa usar um loop separado.\n",
        "for i in range(len(lista)):  # Comece a partir do segundo elemento (índice 1).\n",
        "  for j in range(i+1, len(lista)):\n",
        "    if lista [i] <= lista[j]:    # Compare o primeiro elemento com o elemento atual.\n",
        "      lista[i], lista[j] = lista[j], lista[i]\n",
        "\n",
        "\n",
        "\n",
        "print(\"Lista após a troca:\", lista)\n"
      ],
      "metadata": {
        "colab": {
          "base_uri": "https://localhost:8080/"
        },
        "id": "2rfDOaDsFdOb",
        "outputId": "ba77d75e-5855-42b0-8f21-587f9b36d0db"
      },
      "execution_count": null,
      "outputs": [
        {
          "output_type": "stream",
          "name": "stdout",
          "text": [
            "Digite o 1° número da lista: 1\n",
            "Digite o 2° número da lista: 2\n",
            "Digite o 3° número da lista: 3\n",
            "Digite o 4° número da lista: 5\n",
            "Digite o 5° número da lista: 4\n",
            "Lista após a troca: [5, 4, 3, 2, 1]\n"
          ]
        }
      ]
    },
    {
      "cell_type": "code",
      "source": [
        "lista = []\n",
        "\n",
        "for i in range(5):\n",
        "    num = int(input(f\"Digite o {i+1}° número da lista: \"))\n",
        "    lista.append(num)\n",
        "\n",
        "# Inicialize os índices 'i' e 'j'\n",
        "i = 0\n",
        "j = i + 1\n",
        "\n",
        "# Use um loop while para percorrer a lista\n",
        "while i < len(lista):\n",
        "    while j < len(lista):\n",
        "        if lista[i] <= lista[j]:    # Compare o primeiro elemento com o elemento atual.\n",
        "            lista[i], lista[j] = lista[j], lista[i]\n",
        "        j += 1\n",
        "    i += 1\n",
        "    j = i + 1  # Reinicie 'j' para o próximo elemento após 'i'\n",
        "\n",
        "print(\"Lista após a troca:\", lista)\n"
      ],
      "metadata": {
        "colab": {
          "base_uri": "https://localhost:8080/"
        },
        "id": "T7KfwYW2OOLB",
        "outputId": "4163f5e1-b883-455e-b953-26abf4524026"
      },
      "execution_count": null,
      "outputs": [
        {
          "output_type": "stream",
          "name": "stdout",
          "text": [
            "Digite o 1° número da lista: 1\n",
            "Digite o 2° número da lista: 8\n",
            "Digite o 3° número da lista: 12\n",
            "Digite o 4° número da lista: 5\n",
            "Digite o 5° número da lista: 3\n",
            "Lista após a troca: [12, 8, 5, 3, 1]\n"
          ]
        }
      ]
    },
    {
      "cell_type": "code",
      "source": [],
      "metadata": {
        "id": "IpgN4RbdOOVB"
      },
      "execution_count": null,
      "outputs": []
    },
    {
      "cell_type": "code",
      "source": [],
      "metadata": {
        "id": "xiwKx_ipOOXi"
      },
      "execution_count": null,
      "outputs": []
    },
    {
      "cell_type": "code",
      "source": [],
      "metadata": {
        "id": "QEloUKPXOOaF"
      },
      "execution_count": null,
      "outputs": []
    },
    {
      "cell_type": "code",
      "source": [
        "lista = []\n",
        "\n",
        "for i in range(5):\n",
        "    num = int(input(f\"Digite o {i+1}° número da lista: \"))\n",
        "    lista.append(num)\n",
        "\n",
        "# Agora, o loop acabou, então 'i' não está mais disponível aqui.\n",
        "# print(i) # Isso geraria um erro, pois 'i' não está definido neste escopo.\n",
        "\n",
        "# Usamos o primeiro elemento como referência para comparação e troca com todos os outros.\n",
        "# Então, precisamos percorrer todos os elementos da lista.\n",
        "for i in range(len(lista)):\n",
        "    for j in range(i+1, len(lista)):\n",
        "        if lista[i] <= lista[j]:\n",
        "            lista[i], lista[j] = lista[j], lista[i]\n",
        "\n",
        "print(\"Lista em ordem decrescente:\", lista)\n"
      ],
      "metadata": {
        "colab": {
          "base_uri": "https://localhost:8080/"
        },
        "id": "w2V-_RrwFdQt",
        "outputId": "3b53dc48-20ff-40d7-f0d0-afa06d92297d"
      },
      "execution_count": null,
      "outputs": [
        {
          "output_type": "stream",
          "name": "stdout",
          "text": [
            "Digite o 1° número da lista: 1\n",
            "Digite o 2° número da lista: 2\n",
            "Digite o 3° número da lista: 3\n",
            "Digite o 4° número da lista: 4\n",
            "Digite o 5° número da lista: 5\n",
            "Lista em ordem decrescente: [5, 4, 3, 2, 1]\n"
          ]
        }
      ]
    },
    {
      "cell_type": "markdown",
      "source": [
        "Crie um Menu onde o usuário escolha qual das 4 operações matemáticas ele quer realizar, e na sequência pedir 2 números, fazer o cálculo e exibir o resultado\n"
      ],
      "metadata": {
        "id": "zBtMJvHCMobn"
      }
    },
    {
      "cell_type": "code",
      "source": [
        "lista1 = [\"+\",\"-\",\"/\",\"*\"]\n",
        "lista2 = []"
      ],
      "metadata": {
        "id": "cLHtTE6QFdUr"
      },
      "execution_count": null,
      "outputs": []
    },
    {
      "cell_type": "code",
      "source": [],
      "metadata": {
        "colab": {
          "base_uri": "https://localhost:8080/",
          "height": 106
        },
        "id": "26p09G5AFdXM",
        "outputId": "cdd46828-ea67-49db-9051-fdc6fb048dbd"
      },
      "execution_count": null,
      "outputs": [
        {
          "output_type": "error",
          "ename": "SyntaxError",
          "evalue": "invalid syntax (<ipython-input-37-503464570efa>, line 1)",
          "traceback": [
            "\u001b[0;36m  File \u001b[0;32m\"<ipython-input-37-503464570efa>\"\u001b[0;36m, line \u001b[0;32m1\u001b[0m\n\u001b[0;31m    lista.append(*)\u001b[0m\n\u001b[0m                  ^\u001b[0m\n\u001b[0;31mSyntaxError\u001b[0m\u001b[0;31m:\u001b[0m invalid syntax\n"
          ]
        }
      ]
    },
    {
      "cell_type": "code",
      "source": [
        "print(lista1)"
      ],
      "metadata": {
        "colab": {
          "base_uri": "https://localhost:8080/"
        },
        "id": "Ff3I1PzZFdYs",
        "outputId": "51210071-45c5-4d92-8a4e-23c1d1f10176"
      },
      "execution_count": null,
      "outputs": [
        {
          "output_type": "stream",
          "name": "stdout",
          "text": [
            "['+', '-', '/', '*']\n"
          ]
        }
      ]
    },
    {
      "cell_type": "code",
      "source": [
        "lista1 = [\"+\",\"-\",\"/\",\"*\"]\n",
        "\n",
        "\n",
        "\n",
        "\n",
        "while True:\n",
        "\n",
        "  operacao = input(f\"Escolha uma dessas operações: {lista1}\")\n",
        "\n",
        "  if operacao in lista1:\n",
        "    print(\"Deu certo.\")\n",
        "    break\n",
        "  else:\n",
        "    print(\"Você é um imbecil. Digite de novo:\" )\n",
        "\n",
        "numero1 = int(input(\"Digite o primeiro número: \"))\n",
        "numero2 = int(input(\"Digite o segundo número: \"))\n",
        "\n",
        "if operacao == \"+\":\n",
        "  print(numero1+numero2)\n",
        "elif operacao == \"-\":\n",
        "  print(numero1-numero2)\n",
        "elif operacao == \"/\":\n",
        "  print(numero1 / numero2)\n",
        "elif operacao == \"*\":\n",
        "  print(numero1 * numero2)\n",
        "\n",
        "\n",
        "\n",
        "\n",
        "\n",
        "\n",
        "\n",
        "\n"
      ],
      "metadata": {
        "colab": {
          "base_uri": "https://localhost:8080/"
        },
        "id": "ALOFgchzFdbG",
        "outputId": "92764d2d-a155-4040-fe10-f590f1f93d52"
      },
      "execution_count": null,
      "outputs": [
        {
          "output_type": "stream",
          "name": "stdout",
          "text": [
            "Escolha uma dessas operações: ['+', '-', '/', '*']\n",
            "Você é um imbecil. Digite de novo:\n",
            "Escolha uma dessas operações: ['+', '-', '/', '*']=\n",
            "Você é um imbecil. Digite de novo:\n",
            "Escolha uma dessas operações: ['+', '-', '/', '*']+\n",
            "Deu certo.\n",
            "Digite o primeiro número: 13\n",
            "Digite o segundo número: 2\n",
            "15\n"
          ]
        }
      ]
    },
    {
      "cell_type": "markdown",
      "source": [
        "1 - Cálculo de PLR\n",
        "• Quem ganha igual ou acima de R$ 4000,00 ganha 15 % de bônus;\n",
        "• quem ganha abaixo de R$ 4000,00, ganha 10 % de bônus;\n",
        "• e quem ganhar acima de R$ 10.000,00 ganha 20%\n",
        "\n",
        "Abaixo a folha salarial dos colaboradores:\n",
        "\n",
        "\n",
        "\n"
      ],
      "metadata": {
        "id": "PYgJ8FiPcqUN"
      }
    },
    {
      "cell_type": "code",
      "source": [
        "lista = [\n",
        "    [\"Pedro\", 3500],\n",
        "    [\"Ana\", 5500],\n",
        "    [\"Joao\", 4000],\n",
        "    [\"Fatima\", 2200],\n",
        "    [\"Anacleto\", 6700],\n",
        "    [\"Jurema\", 5000],\n",
        "    [\"Silvia\", 3900],\n",
        "    [\"Maria\", 20000],\n",
        "]\n",
        "\n",
        "for i in lista:\n",
        "    nome = i[0]\n",
        "    salario = i[1]\n",
        "\n",
        "    if salario >= 10000:\n",
        "        bonus = salario * 0.20\n",
        "    elif salario >= 4000:\n",
        "        bonus = salario * 0.15\n",
        "    else:\n",
        "        bonus = salario * 0.10\n",
        "\n",
        "    print(f\"{nome} tem direito a um bônus de R${bonus} na PLR. Seu salário atual é: R${salario + bonus}\")\n"
      ],
      "metadata": {
        "id": "1D01ExLvFdhk",
        "colab": {
          "base_uri": "https://localhost:8080/"
        },
        "outputId": "9ff71168-227b-4695-9f1d-23e018cf4e47"
      },
      "execution_count": null,
      "outputs": [
        {
          "output_type": "stream",
          "name": "stdout",
          "text": [
            "Pedro tem direito a um bônus de R$350.0 na PLR. Seu salário atual é: R$3850.0\n",
            "Ana tem direito a um bônus de R$825.0 na PLR. Seu salário atual é: R$6325.0\n",
            "Joao tem direito a um bônus de R$600.0 na PLR. Seu salário atual é: R$4600.0\n",
            "Fatima tem direito a um bônus de R$220.0 na PLR. Seu salário atual é: R$2420.0\n",
            "Anacleto tem direito a um bônus de R$1005.0 na PLR. Seu salário atual é: R$7705.0\n",
            "Jurema tem direito a um bônus de R$750.0 na PLR. Seu salário atual é: R$5750.0\n",
            "Silvia tem direito a um bônus de R$390.0 na PLR. Seu salário atual é: R$4290.0\n",
            "Maria tem direito a um bônus de R$4000.0 na PLR. Seu salário atual é: R$24000.0\n"
          ]
        }
      ]
    },
    {
      "cell_type": "code",
      "source": [
        "notas = []\n",
        "nomes = []\n",
        "medias = []\n",
        "numeroUsuario = int(input(\"Digite a quantidade de usuários que colocarão a nota: \"))\n",
        "for usuario in range(numeroUsuario):\n",
        "  nome = input(\"Digite seu nome: \")\n",
        "  nomes.append(nome)\n",
        "  nNotas = int(input(\"Digite o número de notas que deseja calcular a média: \"))\n",
        "\n",
        "  for numero in range(nNotas):\n",
        "    numero_media = int(input(f\"Escreva aqui a {numero + 1}º nota: \"))\n",
        "    numeros.append(numero_media)\n",
        "\n",
        "media = sum(numeros) / len (numeros)\n",
        "for nome,numero in zip(nomes, numeros):\n",
        "  if media >= 7.5:\n",
        "    print(f\"A média das notas de {nome} é: {media}, Aprovado!\")\n",
        "  else:\n",
        "    print(f\"A média das notas de {nome} é: {media}, Reprovado!\")"
      ],
      "metadata": {
        "id": "bbDDuUfHFdjv",
        "colab": {
          "base_uri": "https://localhost:8080/"
        },
        "outputId": "c3f751ec-c839-4495-ba64-77101c2bf55f"
      },
      "execution_count": null,
      "outputs": [
        {
          "output_type": "stream",
          "name": "stdout",
          "text": [
            "Digite a quantidade de usuários que colocarão a nota: 2\n",
            "Digite seu nome: caio \n",
            "Digite o número de notas que deseja calcular a média: 2\n",
            "Escreva aqui a 1º nota: 8\n",
            "Escreva aqui a 2º nota: 7\n",
            "Digite seu nome: a\n",
            "Digite o número de notas que deseja calcular a média: 2\n",
            "Escreva aqui a 1º nota: 7\n",
            "Escreva aqui a 2º nota: 7\n",
            "A média das notas de caio  é: 6.428571428571429, Reprovado!\n",
            "A média das notas de a é: 6.428571428571429, Reprovado!\n"
          ]
        }
      ]
    },
    {
      "cell_type": "code",
      "source": [
        "print(numero_media)"
      ],
      "metadata": {
        "id": "eUXh4NFiFdmM",
        "colab": {
          "base_uri": "https://localhost:8080/"
        },
        "outputId": "2b59257f-b852-494b-9d50-4b4ceef045af"
      },
      "execution_count": null,
      "outputs": [
        {
          "output_type": "stream",
          "name": "stdout",
          "text": [
            "1\n"
          ]
        }
      ]
    },
    {
      "cell_type": "code",
      "source": [
        "#Adicionar nome do aluno + sequencia de notas + média desse aluno e criar uma \"tabela\" - adicionar sistema de média 7.5"
      ],
      "metadata": {
        "id": "QabB-SakFdn1"
      },
      "execution_count": null,
      "outputs": []
    },
    {
      "cell_type": "code",
      "source": [
        "notas = []\n",
        "nomes = []\n",
        "medias = []\n",
        "\n",
        "numeroUsuario = int(input(\"Digite a quantidade de usuários que colocarão a nota: \"))\n",
        "\n",
        "for usuario in range(numeroUsuario):\n",
        "    nome = input(\"Digite seu nome: \")\n",
        "    nomes.append(nome)\n",
        "    nNotas = int(input(\"Digite o número de notas que deseja calcular a média: \"))\n",
        "    numeros = []  # Inicializa a lista para armazenar as notas do usuário\n",
        "\n",
        "    for numero in range(nNotas):\n",
        "        numero_media = float(input(f\"Escreva aqui a {numero + 1}ª nota: \"))\n",
        "        numeros.append(numero_media)\n",
        "\n",
        "    media = sum(numeros) / len(numeros)\n",
        "    medias.append(media)\n",
        "\n",
        "# Exibe as médias calculadas e determina se o usuário foi aprovado ou reprovado\n",
        "for nome, media in zip(nomes, medias):\n",
        "    if media >= 7.5:\n",
        "        print(f\"A média das notas de {nome} é: {media:.2f}. Aprovado!\")\n",
        "    else:\n",
        "        print(f\"A média das notas de {nome} é: {media:.2f}. Reprovado!\")\n"
      ],
      "metadata": {
        "id": "UcmNafFWFdqS",
        "colab": {
          "base_uri": "https://localhost:8080/"
        },
        "outputId": "1ae6ba4b-a92a-457b-b074-1a687c4e00d8"
      },
      "execution_count": 3,
      "outputs": [
        {
          "output_type": "stream",
          "name": "stdout",
          "text": [
            "Digite a quantidade de usuários que colocarão a nota: 2\n",
            "Digite seu nome: Nickolas\n",
            "Digite o número de notas que deseja calcular a média: 2\n",
            "Escreva aqui a 1ª nota: 8\n",
            "Escreva aqui a 2ª nota: 7\n",
            "Digite seu nome: Caio\n",
            "Digite o número de notas que deseja calcular a média: 2\n",
            "Escreva aqui a 1ª nota: 4\n",
            "Escreva aqui a 2ª nota: 4\n",
            "A média das notas de Nickolas é: 7.50. Aprovado!\n",
            "A média das notas de Caio é: 4.00. Reprovado!\n"
          ]
        }
      ]
    },
    {
      "cell_type": "code",
      "source": [
        "alunos = []\n",
        "notas = []\n",
        "print(\"Bem vindo ao Portal de Notas!\")\n",
        "print(\"Escolha uma das opções:\")\n",
        "opcao = 1\n",
        "while opcao > 0:\n",
        "  print(\"1 - Adcionar Notas\")\n",
        "  print(\"2 - Exibir Notas\")\n",
        "  print(\"-1 - Sair\")\n",
        "\n",
        "  opcao = int(input())\n",
        "  if opcao == 1:\n",
        "    alunos.append(input(\"Digite o nome do aluno: \"))\n",
        "    notasTemp = float(input(\"Digite a nota do aluno:\"))\n",
        "    notasTempList = []\n",
        "    while notasTemp >= 0:\n",
        "      if notasTemp >= 0:\n",
        "        notasTempList.append(notasTemp)\n",
        "      notasTemp = float(input(\"Digite a nota do aluno:\"))\n",
        "    notas.append(notasTempList)\n",
        "  elif opcao == 2:\n",
        "    contador = 0\n",
        "    for nome in alunos:\n",
        "      media = sum(notas[contador]) / len(\n",
        "\n",
        "          notas[contador])\n",
        "      print(f\"{nome} média: {media:.2f}\")\n",
        "      contador +=1"
      ],
      "metadata": {
        "id": "ayOd6KCaFdwa",
        "colab": {
          "base_uri": "https://localhost:8080/"
        },
        "outputId": "714934ea-5cb3-4af9-cf7b-35f18f1117b8"
      },
      "execution_count": 7,
      "outputs": [
        {
          "name": "stdout",
          "output_type": "stream",
          "text": [
            "Bem vindo ao Portal de Notas!\n",
            "Escolha uma das opções:\n",
            "1 - Adcionar Notas\n",
            "2 - Exibir Notas\n",
            "-1 - Sair\n",
            "1\n",
            "Digite o nome do aluno: caio\n",
            "Digite a nota do aluno:8\n",
            "Digite a nota do aluno:8\n",
            "Digite a nota do aluno:7\n",
            "Digite a nota do aluno:7\n",
            "Digite a nota do aluno:-1\n",
            "1 - Adcionar Notas\n",
            "2 - Exibir Notas\n",
            "-1 - Sair\n",
            "2\n",
            "caio média: 7.50\n",
            "1 - Adcionar Notas\n",
            "2 - Exibir Notas\n",
            "-1 - Sair\n",
            "-1\n"
          ]
        }
      ]
    },
    {
      "cell_type": "markdown",
      "source": [],
      "metadata": {
        "id": "s-VpSvV0F7eK"
      }
    }
  ]
}