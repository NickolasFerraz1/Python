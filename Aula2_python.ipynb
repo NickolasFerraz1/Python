{
  "nbformat": 4,
  "nbformat_minor": 0,
  "metadata": {
    "colab": {
      "provenance": [],
      "authorship_tag": "ABX9TyNV3ZX7BIyv9sQkNgyxuRpk",
      "include_colab_link": true
    },
    "kernelspec": {
      "name": "python3",
      "display_name": "Python 3"
    },
    "language_info": {
      "name": "python"
    }
  },
  "cells": [
    {
      "cell_type": "markdown",
      "metadata": {
        "id": "view-in-github",
        "colab_type": "text"
      },
      "source": [
        "<a href=\"https://colab.research.google.com/github/NickolasFerraz1/python/blob/main/Aula2_python.ipynb\" target=\"_parent\"><img src=\"https://colab.research.google.com/assets/colab-badge.svg\" alt=\"Open In Colab\"/></a>"
      ]
    },
    {
      "cell_type": "code",
      "execution_count": null,
      "metadata": {
        "id": "53h8g7dH_yu_"
      },
      "outputs": [],
      "source": [
        "idade1 = 15\n",
        "\n",
        "idade2 = 18\n",
        "\n",
        "idade3 = 21"
      ]
    },
    {
      "cell_type": "code",
      "source": [
        "print (idade1)"
      ],
      "metadata": {
        "colab": {
          "base_uri": "https://localhost:8080/"
        },
        "id": "4BIOqZ_s_04E",
        "outputId": "518ca58c-d7f1-4b05-f760-17f7c1fbd474"
      },
      "execution_count": null,
      "outputs": [
        {
          "output_type": "stream",
          "name": "stdout",
          "text": [
            "15\n"
          ]
        }
      ]
    },
    {
      "cell_type": "code",
      "source": [
        "idade = int(input(\"Coloque sua Idade: \"))\n",
        "\n",
        "if idade >18:\n",
        "  print(\"Maior de idade\")\n",
        "elif idade <18:\n",
        "     print(\"Menor de idade\")\n",
        "else:\n",
        "  print(\"Parabéns pelos 18 anos\")\n"
      ],
      "metadata": {
        "colab": {
          "base_uri": "https://localhost:8080/"
        },
        "id": "SOCrVYBB_06L",
        "outputId": "d325ffa6-b796-4349-c4ec-c28a4abc512a"
      },
      "execution_count": null,
      "outputs": [
        {
          "output_type": "stream",
          "name": "stdout",
          "text": [
            "Coloque sua Idade: 18\n",
            "Parabéns pelos 18 anos\n"
          ]
        }
      ]
    },
    {
      "cell_type": "code",
      "source": [
        "a=10"
      ],
      "metadata": {
        "id": "l1A_S910DPb5"
      },
      "execution_count": null,
      "outputs": []
    },
    {
      "cell_type": "code",
      "source": [
        "b=20"
      ],
      "metadata": {
        "id": "HBzxN9n-DPkx"
      },
      "execution_count": null,
      "outputs": []
    },
    {
      "cell_type": "code",
      "source": [
        "if a>5 and b<30:\n",
        "    print(\"acertou\")\n",
        "else:\n",
        "     print(\"errou\")"
      ],
      "metadata": {
        "colab": {
          "base_uri": "https://localhost:8080/"
        },
        "id": "xm3sRh7b_0_q",
        "outputId": "6614205d-94c7-4e39-de83-d14aeabb3633"
      },
      "execution_count": null,
      "outputs": [
        {
          "output_type": "stream",
          "name": "stdout",
          "text": [
            "acertou\n"
          ]
        }
      ]
    },
    {
      "cell_type": "code",
      "source": [
        "numero = int(input(\"Escreva um número: \"))\n",
        "\n"
      ],
      "metadata": {
        "colab": {
          "base_uri": "https://localhost:8080/"
        },
        "id": "7xnn3IqL_1Cb",
        "outputId": "7d1f1d08-f300-4bce-8b2c-d2b164fd4d9b"
      },
      "execution_count": null,
      "outputs": [
        {
          "name": "stdout",
          "output_type": "stream",
          "text": [
            "Escreva um número: 15\n"
          ]
        }
      ]
    },
    {
      "cell_type": "code",
      "source": [
        "numero = int(input(\"Escreva um número: \"))\n",
        "\n",
        "if numero > 0:\n",
        "  print(\"Positivo\")\n",
        "elif numero < 0:\n",
        "  print(\"Negativo\")\n",
        "else:\n",
        "  print(\"0\")"
      ],
      "metadata": {
        "colab": {
          "base_uri": "https://localhost:8080/"
        },
        "id": "rBQkIZy1_1Em",
        "outputId": "a1fe878a-c967-48a9-fe01-57bd9d510055"
      },
      "execution_count": null,
      "outputs": [
        {
          "output_type": "stream",
          "name": "stdout",
          "text": [
            "Escreva um número: -2\n",
            "Negativo\n"
          ]
        }
      ]
    },
    {
      "cell_type": "code",
      "source": [
        "numero = int(input(\"Escreva um número: \"))\n",
        "\n",
        "if numero % 2 == 0:\n",
        "  print(\"Par\")\n",
        "else:\n",
        "  print(\"Ímpar\")"
      ],
      "metadata": {
        "colab": {
          "base_uri": "https://localhost:8080/"
        },
        "id": "0Hkac0jt_1Iy",
        "outputId": "9749f3f5-1db5-4189-e62a-3f97ad2ff5d2"
      },
      "execution_count": null,
      "outputs": [
        {
          "output_type": "stream",
          "name": "stdout",
          "text": [
            "Escreva um número: 2\n",
            "Par\n"
          ]
        }
      ]
    },
    {
      "cell_type": "code",
      "source": [
        "numero = int(input(\"Escreva um número: \"))\n",
        "\n",
        "if numero % 4 == 0:\n",
        "  print(\"Ano Bissexto\")\n",
        "else:\n",
        "  print(\"Não Bissexto\")"
      ],
      "metadata": {
        "colab": {
          "base_uri": "https://localhost:8080/"
        },
        "id": "fww5AqLQ_1Mj",
        "outputId": "b30dbe28-faf8-4d4a-e12a-014cb5053816"
      },
      "execution_count": null,
      "outputs": [
        {
          "output_type": "stream",
          "name": "stdout",
          "text": [
            "Escreva um número: 2548\n",
            "Ano Bissexto\n"
          ]
        }
      ]
    },
    {
      "cell_type": "code",
      "source": [
        "letra = input(\"Escreva uma letra: \")\n",
        "\n",
        "if letra.lower() in [\"a\", \"e\", \"i\", \"o\", \"u\"]:\n",
        "  print (\"Vogal\")\n",
        "else:\n",
        "  print (\"Consoante\")"
      ],
      "metadata": {
        "colab": {
          "base_uri": "https://localhost:8080/"
        },
        "id": "BfjDyIfw_1Or",
        "outputId": "42462182-d0de-47e1-cfe5-3972bdd9a8eb"
      },
      "execution_count": null,
      "outputs": [
        {
          "output_type": "stream",
          "name": "stdout",
          "text": [
            "Escreva uma letra: B\n",
            "Consoante\n"
          ]
        }
      ]
    },
    {
      "cell_type": "code",
      "source": [
        "produtos = int (input(\"Digite quantos produtos quer comprar: \"))\n",
        "\n",
        "preço = 100\n",
        "\n",
        "if produtos >=10:\n",
        "  print(produtos * preço - (produtos * preço * 0.1))\n",
        "else:\n",
        "  print(produtos * preço)\n",
        "\n"
      ],
      "metadata": {
        "colab": {
          "base_uri": "https://localhost:8080/"
        },
        "id": "L6zuI4O7_1RK",
        "outputId": "6713edb3-8617-4cc4-a184-1d1551c6cf77"
      },
      "execution_count": null,
      "outputs": [
        {
          "output_type": "stream",
          "name": "stdout",
          "text": [
            "Digite quantos produtos quer comprar: 15\n",
            "1350.0\n"
          ]
        }
      ]
    },
    {
      "cell_type": "code",
      "source": [
        "idadevoto = int(input(\"Digite sua idade: \"))\n",
        "\n",
        "if idadevoto >=16:\n",
        "  print(\"Você pode votar!\")\n",
        "else:\n",
        "  print(\"Você não pode votar!\")"
      ],
      "metadata": {
        "colab": {
          "base_uri": "https://localhost:8080/"
        },
        "id": "xSeTmhOd_1TV",
        "outputId": "5a3e1197-46e7-4c92-950e-3974d11b780b"
      },
      "execution_count": null,
      "outputs": [
        {
          "output_type": "stream",
          "name": "stdout",
          "text": [
            "Digite sua idade: 17\n",
            "Você pode votar!\n"
          ]
        }
      ]
    },
    {
      "cell_type": "code",
      "source": [
        "print(\"oi\")"
      ],
      "metadata": {
        "colab": {
          "base_uri": "https://localhost:8080/"
        },
        "id": "JqNFOBE2_1Xq",
        "outputId": "c497c2a4-9f87-4f71-ac6c-2b0c59a341eb"
      },
      "execution_count": null,
      "outputs": [
        {
          "output_type": "stream",
          "name": "stdout",
          "text": [
            "oi\n"
          ]
        }
      ]
    },
    {
      "cell_type": "code",
      "source": [
        "print(\"oi\")"
      ],
      "metadata": {
        "colab": {
          "base_uri": "https://localhost:8080/"
        },
        "id": "oVhaSqK4J2yx",
        "outputId": "63cbbe39-12a2-420c-895a-736dbe9de4fc"
      },
      "execution_count": null,
      "outputs": [
        {
          "output_type": "stream",
          "name": "stdout",
          "text": [
            "oi\n"
          ]
        }
      ]
    },
    {
      "cell_type": "code",
      "source": [
        "print(\"oi\")"
      ],
      "metadata": {
        "colab": {
          "base_uri": "https://localhost:8080/"
        },
        "id": "AT2-vjhNJ20K",
        "outputId": "f1ef4f45-0626-49e9-9ac4-78cffcc0b7f7"
      },
      "execution_count": null,
      "outputs": [
        {
          "output_type": "stream",
          "name": "stdout",
          "text": [
            "oi\n"
          ]
        }
      ]
    },
    {
      "cell_type": "code",
      "source": [
        "print(\"oi\")\n"
      ],
      "metadata": {
        "colab": {
          "base_uri": "https://localhost:8080/"
        },
        "id": "WtRoHgOBJ21X",
        "outputId": "a9e7e991-1ce1-4894-ac73-73bc877b5bbd"
      },
      "execution_count": null,
      "outputs": [
        {
          "output_type": "stream",
          "name": "stdout",
          "text": [
            "oi\n"
          ]
        }
      ]
    },
    {
      "cell_type": "code",
      "source": [
        "frutas = []\n",
        "\n",
        "frutas.append(\"banana\")\n",
        "frutas.append(\"pera\")\n",
        "frutas.append(\"limão\")"
      ],
      "metadata": {
        "id": "tyNWkfE6J23p"
      },
      "execution_count": null,
      "outputs": []
    },
    {
      "cell_type": "code",
      "source": [
        "print(frutas)"
      ],
      "metadata": {
        "colab": {
          "base_uri": "https://localhost:8080/"
        },
        "id": "L52iSt4cJ26B",
        "outputId": "6c36c1ca-cc28-42aa-897b-8571c9cc9790"
      },
      "execution_count": null,
      "outputs": [
        {
          "output_type": "stream",
          "name": "stdout",
          "text": [
            "['banana', 'pera', 'limão']\n"
          ]
        }
      ]
    },
    {
      "cell_type": "code",
      "source": [
        "frutas.remove(\"banana\")"
      ],
      "metadata": {
        "id": "CnE4jFWUJ28h"
      },
      "execution_count": null,
      "outputs": []
    },
    {
      "cell_type": "code",
      "source": [
        "frutas.insert(1,\"banana\")"
      ],
      "metadata": {
        "id": "mMe8JkQQJ2-o"
      },
      "execution_count": null,
      "outputs": []
    },
    {
      "cell_type": "code",
      "source": [
        "print(frutas)"
      ],
      "metadata": {
        "colab": {
          "base_uri": "https://localhost:8080/"
        },
        "id": "Tp5W-ijT_1cL",
        "outputId": "34cd894f-a5b5-4b13-ab1a-0d8bc48b63ae"
      },
      "execution_count": null,
      "outputs": [
        {
          "output_type": "stream",
          "name": "stdout",
          "text": [
            "['pera', 'banana', 'limão']\n"
          ]
        }
      ]
    },
    {
      "cell_type": "code",
      "source": [
        "frutas.pop(2)"
      ],
      "metadata": {
        "colab": {
          "base_uri": "https://localhost:8080/",
          "height": 35
        },
        "id": "HpFljzJmUjda",
        "outputId": "348b5970-711d-4815-ea97-4ea9481a1472"
      },
      "execution_count": null,
      "outputs": [
        {
          "output_type": "execute_result",
          "data": {
            "text/plain": [
              "'limão'"
            ],
            "application/vnd.google.colaboratory.intrinsic+json": {
              "type": "string"
            }
          },
          "metadata": {},
          "execution_count": 90
        }
      ]
    },
    {
      "cell_type": "code",
      "source": [
        "print(frutas)"
      ],
      "metadata": {
        "colab": {
          "base_uri": "https://localhost:8080/"
        },
        "id": "ZRd4rZqwUjf8",
        "outputId": "060068a2-55f2-4cd7-8930-968055b2969d"
      },
      "execution_count": null,
      "outputs": [
        {
          "output_type": "stream",
          "name": "stdout",
          "text": [
            "['pera', 'banana']\n"
          ]
        }
      ]
    },
    {
      "cell_type": "code",
      "source": [
        "numeros = [1, 2, 3, 4]"
      ],
      "metadata": {
        "id": "CmsqurxLUjmn"
      },
      "execution_count": null,
      "outputs": []
    },
    {
      "cell_type": "code",
      "source": [
        "soma = sum(numeros)\n",
        "print (soma)"
      ],
      "metadata": {
        "colab": {
          "base_uri": "https://localhost:8080/"
        },
        "id": "jxS7YtY5UjrI",
        "outputId": "8991fd7c-d103-4a68-a806-b6f616c8861b"
      },
      "execution_count": null,
      "outputs": [
        {
          "output_type": "stream",
          "name": "stdout",
          "text": [
            "15\n"
          ]
        }
      ]
    },
    {
      "cell_type": "code",
      "source": [
        "lista = [\"um\", \"dois\", \"três\"]"
      ],
      "metadata": {
        "id": "504Q9OuKVmRX"
      },
      "execution_count": null,
      "outputs": []
    },
    {
      "cell_type": "code",
      "source": [
        "print (numeros)"
      ],
      "metadata": {
        "colab": {
          "base_uri": "https://localhost:8080/"
        },
        "id": "bGhHrq6MVmUF",
        "outputId": "d3711e79-04dc-4ec2-e7d0-6d717dc315b3"
      },
      "execution_count": null,
      "outputs": [
        {
          "output_type": "stream",
          "name": "stdout",
          "text": [
            "[1, 2, 3, 4]\n"
          ]
        }
      ]
    },
    {
      "cell_type": "code",
      "source": [
        "print (max(numeros))"
      ],
      "metadata": {
        "colab": {
          "base_uri": "https://localhost:8080/"
        },
        "id": "mR0VZJoJVmWO",
        "outputId": "8616cee9-5b72-43f4-b62d-1bf5ef47eb10"
      },
      "execution_count": null,
      "outputs": [
        {
          "output_type": "stream",
          "name": "stdout",
          "text": [
            "4\n"
          ]
        }
      ]
    },
    {
      "cell_type": "code",
      "source": [
        "nomes = [\"André\", \"Lucas\", \"Caio\", \"Pedro\", \"Paulo\"]\n",
        "\n",
        "\"André\" in nomes"
      ],
      "metadata": {
        "colab": {
          "base_uri": "https://localhost:8080/"
        },
        "id": "JBoQcOo8VmYs",
        "outputId": "be56e156-5020-4c33-93c6-ad36568c67a5"
      },
      "execution_count": null,
      "outputs": [
        {
          "output_type": "execute_result",
          "data": {
            "text/plain": [
              "True"
            ]
          },
          "metadata": {},
          "execution_count": 2
        }
      ]
    },
    {
      "cell_type": "code",
      "source": [
        "nomes = [\"André\", \"Lucas\", \"Caio\", \"Pedro\", \"Paulo\"]\n",
        "nome_procurado = input(\"Digite seu nome:\")\n",
        "if nome_procurado in nomes:\n",
        "    print(\"você está na lista:\")\n",
        "else:\n",
        "    print(\"você não está na lista:\")"
      ],
      "metadata": {
        "colab": {
          "base_uri": "https://localhost:8080/"
        },
        "id": "tnQd6ZxtVmbW",
        "outputId": "92491e6a-2eec-419b-fedf-63e0531ddfe3"
      },
      "execution_count": null,
      "outputs": [
        {
          "output_type": "stream",
          "name": "stdout",
          "text": [
            "Digite seu nome:Lucas\n",
            "você está na lista:\n"
          ]
        }
      ]
    },
    {
      "cell_type": "code",
      "source": [
        "nomes = [\"André\", \"Lucas\", \"Caio\", \"Pedro\", \"Paulo\"]\n",
        "nome_procurado = input(\"Digite seu nome: \")\n",
        "\n",
        "if nome_procurado in nomes:\n",
        "    print(f\"{nome_procurado}, você está na lista.\")\n",
        "else:\n",
        "    print(f\"{nome_procurado}, você não está na lista.\")\n"
      ],
      "metadata": {
        "colab": {
          "base_uri": "https://localhost:8080/"
        },
        "id": "aqLANu51slkN",
        "outputId": "4add6c84-ba0c-490b-af00-36f880a08281"
      },
      "execution_count": null,
      "outputs": [
        {
          "output_type": "stream",
          "name": "stdout",
          "text": [
            "Digite seu nome: André \n",
            "André , você não está na lista.\n"
          ]
        }
      ]
    },
    {
      "cell_type": "code",
      "source": [
        "print (nomes)"
      ],
      "metadata": {
        "colab": {
          "base_uri": "https://localhost:8080/"
        },
        "id": "5_I9uqqXslmb",
        "outputId": "7cde0899-4b2e-4620-ce06-755fd5e77c1c"
      },
      "execution_count": null,
      "outputs": [
        {
          "output_type": "stream",
          "name": "stdout",
          "text": [
            "['André', 'Lucas', 'Caio', 'Pedro', 'Paulo']\n"
          ]
        }
      ]
    },
    {
      "cell_type": "code",
      "source": [],
      "metadata": {
        "id": "5huH0gDLslos"
      },
      "execution_count": null,
      "outputs": []
    },
    {
      "cell_type": "code",
      "source": [],
      "metadata": {
        "id": "oL7fu4lLslq2"
      },
      "execution_count": null,
      "outputs": []
    },
    {
      "cell_type": "code",
      "source": [
        "print (numeros)"
      ],
      "metadata": {
        "colab": {
          "base_uri": "https://localhost:8080/"
        },
        "id": "kcQ8H59wVmdU",
        "outputId": "5c9a4c49-95f1-4324-8e5f-c28a1e76482e"
      },
      "execution_count": null,
      "outputs": [
        {
          "output_type": "stream",
          "name": "stdout",
          "text": [
            "[1, 2, 3, 4]\n"
          ]
        }
      ]
    },
    {
      "cell_type": "code",
      "source": [
        "media =   sum(numeros) / len (numeros)"
      ],
      "metadata": {
        "id": "YSyy4ZRyUjt1"
      },
      "execution_count": null,
      "outputs": []
    },
    {
      "cell_type": "code",
      "source": [
        "print (media)"
      ],
      "metadata": {
        "colab": {
          "base_uri": "https://localhost:8080/"
        },
        "id": "seM2UWP0Ujyv",
        "outputId": "60c59977-ec8c-41d6-fb1d-23d14f0b1196"
      },
      "execution_count": null,
      "outputs": [
        {
          "output_type": "stream",
          "name": "stdout",
          "text": [
            "2.5\n"
          ]
        }
      ]
    },
    {
      "cell_type": "code",
      "source": [],
      "metadata": {
        "id": "2ANoAgK02QM5"
      },
      "execution_count": null,
      "outputs": []
    },
    {
      "cell_type": "code",
      "source": [
        "numeros = []\n",
        "for numero in range(5):\n",
        "  numero_media = int(input(f\"Escreva aqui o {numero + 1}º número: \"))\n",
        "  numeros.append(numero_media)\n",
        "\n",
        "media = sum(numeros) / len (numeros)\n",
        "print(\"A média dos números é:\",media)"
      ],
      "metadata": {
        "colab": {
          "base_uri": "https://localhost:8080/"
        },
        "id": "H0RcEErD1U-3",
        "outputId": "e5d9450d-1f39-462b-eafb-10d95a4479fe"
      },
      "execution_count": null,
      "outputs": [
        {
          "output_type": "stream",
          "name": "stdout",
          "text": [
            "Escreva aqui o 1º número: 1\n",
            "Escreva aqui o 2º número: 2\n",
            "Escreva aqui o 3º número: 3\n",
            "Escreva aqui o 4º número: 4\n",
            "Escreva aqui o 5º número: 5\n",
            "A média dos números é: 3.0\n"
          ]
        }
      ]
    },
    {
      "cell_type": "code",
      "source": [
        "type(numero_media)"
      ],
      "metadata": {
        "colab": {
          "base_uri": "https://localhost:8080/"
        },
        "id": "C3norNrx1VA8",
        "outputId": "a021131c-713c-420b-c2e7-9fdc4a16e789"
      },
      "execution_count": null,
      "outputs": [
        {
          "output_type": "execute_result",
          "data": {
            "text/plain": [
              "str"
            ]
          },
          "metadata": {},
          "execution_count": 31
        }
      ]
    },
    {
      "cell_type": "code",
      "source": [
        "numeros = []\n",
        "for i in range(5):\n",
        "    numero = int(input(f\"Escreva o {i+1}º número: \"))\n",
        "    numeros.append(numero)\n",
        "\n",
        "media = sum(numeros) / len(numeros)\n",
        "print(\"A média dos números é:\", media)"
      ],
      "metadata": {
        "colab": {
          "base_uri": "https://localhost:8080/"
        },
        "id": "omtYAbdT1VDc",
        "outputId": "bdf761fb-d2ff-4e45-a9cd-3a0110266a73"
      },
      "execution_count": null,
      "outputs": [
        {
          "output_type": "stream",
          "name": "stdout",
          "text": [
            "Escreva o 1º número: 1\n",
            "Escreva o 2º número: 2\n",
            "Escreva o 3º número: 3\n",
            "Escreva o 4º número: 4\n",
            "Escreva o 5º número: 5\n",
            "A média dos números é: 3.0\n"
          ]
        }
      ]
    },
    {
      "cell_type": "code",
      "source": [],
      "metadata": {
        "id": "CfzGBM2o1VF5"
      },
      "execution_count": null,
      "outputs": []
    },
    {
      "cell_type": "code",
      "source": [
        "numeros = []\n",
        "for i in range(4):\n",
        "  numero = float(input(f\"Coloque aqui o {i + 1}º número \"))\n",
        "  numeros.append(numero)\n",
        "\n",
        "media = sum(numeros) / len(numeros)\n",
        "print(\"Sua média é: \",media)"
      ],
      "metadata": {
        "colab": {
          "base_uri": "https://localhost:8080/"
        },
        "id": "I6RJIm-g1VIl",
        "outputId": "80a52df8-4e3b-45c2-933a-91ad30610e5c"
      },
      "execution_count": null,
      "outputs": [
        {
          "output_type": "stream",
          "name": "stdout",
          "text": [
            "Coloque aqui o 1º número 8\n",
            "Coloque aqui o 2º número 7.5\n",
            "Coloque aqui o 3º número 6.5\n",
            "Coloque aqui o 4º número 9\n",
            "Sua média é:  7.75\n"
          ]
        }
      ]
    },
    {
      "cell_type": "code",
      "source": [
        "import math\n",
        "\n",
        "def round_to_nearest_half(number):\n",
        "    return round(number * 2) / 2\n",
        "\n",
        "numeros = []\n",
        "for num in range(4):\n",
        "    numero = float(input(f\"Escreva o {num+1}º número: \"))\n",
        "    numeros.append(numero)\n",
        "\n",
        "media = sum(numeros) / len(numeros)\n",
        "\n",
        "# Verifica se a parte decimal da média é maior ou igual a 0,25\n",
        "# Se for, arredonda a média para cima usando math.ceil()\n",
        "if media % 1 < 0.25:\n",
        "    media_arredondada = math.floor(media)\n",
        "elif 0.25 <= media % 1 < 0.75:\n",
        "  round_to_nearest_half(media)\n",
        "else:\n",
        "    media_arredondada = math.ceil(media)\n",
        "\n",
        "print(\"A média dos números é:\", media_arredondada)\n"
      ],
      "metadata": {
        "colab": {
          "base_uri": "https://localhost:8080/"
        },
        "id": "gq2TK4O01VK-",
        "outputId": "c3dddd2c-4a8f-4cfd-e61d-04523621a8bc"
      },
      "execution_count": null,
      "outputs": [
        {
          "output_type": "stream",
          "name": "stdout",
          "text": [
            "Escreva o 1º número: 8\n",
            "Escreva o 2º número: 8\n",
            "Escreva o 3º número: 8\n",
            "Escreva o 4º número: 5\n",
            "A média dos números é: 7\n"
          ]
        }
      ]
    },
    {
      "cell_type": "code",
      "source": [
        "lista = [\"a, b, c\"]\n",
        "result = \", \".join(lista)\n"
      ],
      "metadata": {
        "id": "hWbP_DOm1VNM"
      },
      "execution_count": null,
      "outputs": []
    },
    {
      "cell_type": "code",
      "source": [
        "print(result)"
      ],
      "metadata": {
        "id": "Yujxhpu41VPe",
        "colab": {
          "base_uri": "https://localhost:8080/"
        },
        "outputId": "4c5e75f6-cc7f-4d96-d9f1-96689083c9ca"
      },
      "execution_count": null,
      "outputs": [
        {
          "output_type": "stream",
          "name": "stdout",
          "text": [
            "a, b, c\n"
          ]
        }
      ]
    },
    {
      "cell_type": "code",
      "source": [],
      "metadata": {
        "id": "nYGqctoH1VR1"
      },
      "execution_count": null,
      "outputs": []
    },
    {
      "cell_type": "code",
      "source": [],
      "metadata": {
        "id": "ID-mfaL_1VVa"
      },
      "execution_count": null,
      "outputs": []
    }
  ]
}