{
  "nbformat": 4,
  "nbformat_minor": 0,
  "metadata": {
    "colab": {
      "provenance": [],
      "authorship_tag": "ABX9TyNqGmtbtNut6NVrWVgaJzsb",
      "include_colab_link": true
    },
    "kernelspec": {
      "name": "python3",
      "display_name": "Python 3"
    },
    "language_info": {
      "name": "python"
    }
  },
  "cells": [
    {
      "cell_type": "markdown",
      "metadata": {
        "id": "view-in-github",
        "colab_type": "text"
      },
      "source": [
        "<a href=\"https://colab.research.google.com/github/NickolasFerraz1/python/blob/main/Aula_3_python.ipynb\" target=\"_parent\"><img src=\"https://colab.research.google.com/assets/colab-badge.svg\" alt=\"Open In Colab\"/></a>"
      ]
    },
    {
      "cell_type": "code",
      "execution_count": null,
      "metadata": {
        "id": "Gmbe0IOHCo2m"
      },
      "outputs": [],
      "source": []
    },
    {
      "cell_type": "markdown",
      "source": [
        "Crie uma lista com 3 números e multiplique-os por 2\n"
      ],
      "metadata": {
        "id": "aTZPoAIfCuNO"
      }
    },
    {
      "cell_type": "code",
      "source": [
        "lista = [1,2,3]"
      ],
      "metadata": {
        "id": "Poe79NtoCpUn"
      },
      "execution_count": null,
      "outputs": []
    },
    {
      "cell_type": "code",
      "source": [
        "multiplicados = [x *2 for x in lista]"
      ],
      "metadata": {
        "id": "i0tDgIIwCpW-"
      },
      "execution_count": null,
      "outputs": []
    },
    {
      "cell_type": "code",
      "source": [
        "print(multiplicados)"
      ],
      "metadata": {
        "colab": {
          "base_uri": "https://localhost:8080/"
        },
        "id": "DZotiEOZCpbH",
        "outputId": "c5dfb112-c6b1-4fb5-b130-5bf2381da6b6"
      },
      "execution_count": null,
      "outputs": [
        {
          "output_type": "stream",
          "name": "stdout",
          "text": [
            "[2, 4, 6]\n"
          ]
        }
      ]
    },
    {
      "cell_type": "code",
      "source": [
        "lista = [\"aaaa\", \"eu\", \"sou\", \"antonio\"]"
      ],
      "metadata": {
        "id": "7ILGUG3pCpdJ"
      },
      "execution_count": 3,
      "outputs": []
    },
    {
      "cell_type": "code",
      "source": [
        "mais_de_tres = [x for x in lista if len(x) > 3]\n",
        "print (mais_de_tres)"
      ],
      "metadata": {
        "colab": {
          "base_uri": "https://localhost:8080/"
        },
        "id": "V9JDheVJCphW",
        "outputId": "6b426af6-9418-44a2-9dd8-3f2202b04ffe"
      },
      "execution_count": 4,
      "outputs": [
        {
          "output_type": "stream",
          "name": "stdout",
          "text": [
            "['aaaa', 'antonio']\n"
          ]
        }
      ]
    },
    {
      "cell_type": "code",
      "source": [
        "numeros = [1,2,3,4,5]"
      ],
      "metadata": {
        "id": "DZ1wUP-ZCpje"
      },
      "execution_count": null,
      "outputs": []
    },
    {
      "cell_type": "code",
      "source": [
        "decrescente = sorted(numeros, reverse=True)"
      ],
      "metadata": {
        "id": "Fa0kV72kCpnm"
      },
      "execution_count": null,
      "outputs": []
    },
    {
      "cell_type": "code",
      "source": [
        "print(decrescente)"
      ],
      "metadata": {
        "colab": {
          "base_uri": "https://localhost:8080/"
        },
        "id": "ixZD3BbKCppe",
        "outputId": "27ab6459-dd5f-4be5-c67e-9c3a7601fd6e"
      },
      "execution_count": null,
      "outputs": [
        {
          "output_type": "stream",
          "name": "stdout",
          "text": [
            "[5, 4, 3, 2, 1]\n"
          ]
        }
      ]
    },
    {
      "cell_type": "code",
      "source": [
        "contador_pares = 0"
      ],
      "metadata": {
        "id": "k1fjsNVNCprm"
      },
      "execution_count": null,
      "outputs": []
    },
    {
      "cell_type": "code",
      "source": [],
      "metadata": {
        "id": "3_Jgt-3VGvUR"
      },
      "execution_count": null,
      "outputs": []
    },
    {
      "cell_type": "code",
      "source": [
        "for numero in numeros:\n",
        "  if numero % 2 == 0:\n",
        "    contador_pares += 1\n"
      ],
      "metadata": {
        "id": "ApCjpDIVGHOk"
      },
      "execution_count": null,
      "outputs": []
    },
    {
      "cell_type": "code",
      "source": [
        "print(\"A quantidade de pares é\",  contador_pares)"
      ],
      "metadata": {
        "colab": {
          "base_uri": "https://localhost:8080/"
        },
        "id": "Jj2TCHwSGHRL",
        "outputId": "cc68bde9-f7e9-4075-fd8e-998afcf47dd6"
      },
      "execution_count": null,
      "outputs": [
        {
          "output_type": "stream",
          "name": "stdout",
          "text": [
            "A quantidade de pares é 2\n"
          ]
        }
      ]
    },
    {
      "cell_type": "code",
      "source": [
        "numeros = [5,2,3]"
      ],
      "metadata": {
        "id": "JhYDcRtRGHTv"
      },
      "execution_count": null,
      "outputs": []
    },
    {
      "cell_type": "code",
      "source": [
        "multiplicação = 1"
      ],
      "metadata": {
        "id": "ht4UkkDnGHWG"
      },
      "execution_count": null,
      "outputs": []
    },
    {
      "cell_type": "code",
      "source": [
        "multiplicação * numeros[0] * numeros[1] * numeros[2]"
      ],
      "metadata": {
        "colab": {
          "base_uri": "https://localhost:8080/"
        },
        "id": "VOpi0Oc8GHYm",
        "outputId": "c66227db-79b4-44d3-b800-9a964f7fae23"
      },
      "execution_count": null,
      "outputs": [
        {
          "output_type": "execute_result",
          "data": {
            "text/plain": [
              "30"
            ]
          },
          "metadata": {},
          "execution_count": 36
        }
      ]
    },
    {
      "cell_type": "code",
      "source": [
        "for numero in numeros:\n",
        "  multiplicação *= numero"
      ],
      "metadata": {
        "id": "6GRYHEwkGHcu"
      },
      "execution_count": null,
      "outputs": []
    },
    {
      "cell_type": "code",
      "source": [
        "print(multiplicação)"
      ],
      "metadata": {
        "colab": {
          "base_uri": "https://localhost:8080/"
        },
        "id": "-I43q9xrGHeo",
        "outputId": "17408302-21c3-4463-c4d5-f0a9c94ff676"
      },
      "execution_count": null,
      "outputs": [
        {
          "output_type": "stream",
          "name": "stdout",
          "text": [
            "30\n"
          ]
        }
      ]
    },
    {
      "cell_type": "code",
      "source": [
        "for i in range(1,51):\n",
        "  print (i)"
      ],
      "metadata": {
        "colab": {
          "base_uri": "https://localhost:8080/"
        },
        "id": "Ng54yRYPGHi3",
        "outputId": "b8f514cb-b78e-4067-88ab-88c5ab3b1c1c"
      },
      "execution_count": null,
      "outputs": [
        {
          "output_type": "stream",
          "name": "stdout",
          "text": [
            "1\n",
            "2\n",
            "3\n",
            "4\n",
            "5\n",
            "6\n",
            "7\n",
            "8\n",
            "9\n",
            "10\n",
            "11\n",
            "12\n",
            "13\n",
            "14\n",
            "15\n",
            "16\n",
            "17\n",
            "18\n",
            "19\n",
            "20\n",
            "21\n",
            "22\n",
            "23\n",
            "24\n",
            "25\n",
            "26\n",
            "27\n",
            "28\n",
            "29\n",
            "30\n",
            "31\n",
            "32\n",
            "33\n",
            "34\n",
            "35\n",
            "36\n",
            "37\n",
            "38\n",
            "39\n",
            "40\n",
            "41\n",
            "42\n",
            "43\n",
            "44\n",
            "45\n",
            "46\n",
            "47\n",
            "48\n",
            "49\n",
            "50\n"
          ]
        }
      ]
    },
    {
      "cell_type": "code",
      "source": [
        "numeros = list(range(2,11))\n",
        "inicial = 0\n"
      ],
      "metadata": {
        "id": "tzre8BSUGHk8"
      },
      "execution_count": null,
      "outputs": []
    },
    {
      "cell_type": "code",
      "source": [
        "soma = sum(numeros)\n",
        "contador = 0"
      ],
      "metadata": {
        "id": "JWPzqdObIrKV"
      },
      "execution_count": null,
      "outputs": []
    },
    {
      "cell_type": "code",
      "source": [
        "print (soma)"
      ],
      "metadata": {
        "colab": {
          "base_uri": "https://localhost:8080/"
        },
        "id": "5wGLnLDiIrQ1",
        "outputId": "b571e3ba-65d5-40a6-f762-3b863c52d780"
      },
      "execution_count": null,
      "outputs": [
        {
          "output_type": "stream",
          "name": "stdout",
          "text": [
            "55\n"
          ]
        }
      ]
    },
    {
      "cell_type": "code",
      "source": [
        "for pares in numeros:\n",
        "  if pares % 2 == 0:\n",
        "    contador += 1\n"
      ],
      "metadata": {
        "id": "4CRP7jDhIrXG"
      },
      "execution_count": null,
      "outputs": []
    },
    {
      "cell_type": "code",
      "source": [
        "print (contador)"
      ],
      "metadata": {
        "colab": {
          "base_uri": "https://localhost:8080/"
        },
        "id": "XBdKcMqTIrZd",
        "outputId": "f4d8a951-a65b-456d-98eb-49405cb916fd"
      },
      "execution_count": null,
      "outputs": [
        {
          "output_type": "stream",
          "name": "stdout",
          "text": [
            "5\n"
          ]
        }
      ]
    },
    {
      "cell_type": "code",
      "source": [
        "numeros = list(range(1,6))"
      ],
      "metadata": {
        "id": "NIzwu1knIrcC"
      },
      "execution_count": null,
      "outputs": []
    },
    {
      "cell_type": "code",
      "source": [
        "multiplicação = 1"
      ],
      "metadata": {
        "id": "L0k5JlgiIreh"
      },
      "execution_count": null,
      "outputs": []
    },
    {
      "cell_type": "code",
      "source": [
        "for numero in numeros:\n",
        "  multiplicação *= numero"
      ],
      "metadata": {
        "id": "yoVylXRXIrim"
      },
      "execution_count": null,
      "outputs": []
    },
    {
      "cell_type": "code",
      "source": [
        "print (multiplicação)"
      ],
      "metadata": {
        "colab": {
          "base_uri": "https://localhost:8080/"
        },
        "id": "p0Kf4eBNIrlB",
        "outputId": "4bdd3543-3691-4678-d1fe-b392a2805611"
      },
      "execution_count": null,
      "outputs": [
        {
          "output_type": "stream",
          "name": "stdout",
          "text": [
            "120\n"
          ]
        }
      ]
    },
    {
      "cell_type": "code",
      "source": [],
      "metadata": {
        "id": "h0Y3yMu5IrpY"
      },
      "execution_count": null,
      "outputs": []
    },
    {
      "cell_type": "code",
      "source": [
        "contador = 10\n",
        "while contador > 0:\n",
        "  print(contador)\n",
        "  contador -= 1\n",
        "\n",
        "print(\"Fogo!\")\n"
      ],
      "metadata": {
        "colab": {
          "base_uri": "https://localhost:8080/"
        },
        "id": "BuvkkN9oIrre",
        "outputId": "f9734069-6494-4b4f-a298-ab98bc5a95f4"
      },
      "execution_count": null,
      "outputs": [
        {
          "output_type": "stream",
          "name": "stdout",
          "text": [
            "10\n",
            "9\n",
            "8\n",
            "7\n",
            "6\n",
            "5\n",
            "4\n",
            "3\n",
            "2\n",
            "1\n",
            "Fogo!\n"
          ]
        }
      ]
    },
    {
      "cell_type": "code",
      "source": [],
      "metadata": {
        "id": "Ji4pMxdxIrtX"
      },
      "execution_count": null,
      "outputs": []
    },
    {
      "cell_type": "code",
      "source": [
        "print(\"oi\")"
      ],
      "metadata": {
        "colab": {
          "base_uri": "https://localhost:8080/"
        },
        "id": "JSqok9M5GHnA",
        "outputId": "4a2a0924-ca8a-40ab-bc89-92a41d1a1d8c"
      },
      "execution_count": null,
      "outputs": [
        {
          "output_type": "stream",
          "name": "stdout",
          "text": [
            "oi\n"
          ]
        }
      ]
    },
    {
      "cell_type": "code",
      "source": [
        "numero = None\n",
        "while numero is None or numero % 2 != 0:\n",
        " numero = int(input(\"Digite um número par: \"))\n",
        " if numero % 2 != 0:\n",
        "  print(\"O número não é par. Tente de novo: \")\n",
        "\n",
        "\n",
        "print(\"O numero digitado é par: \", numero)"
      ],
      "metadata": {
        "colab": {
          "base_uri": "https://localhost:8080/"
        },
        "id": "CGEjN_ZMCptm",
        "outputId": "05dcc098-fbdd-4da6-9077-6ba74d209019"
      },
      "execution_count": null,
      "outputs": [
        {
          "output_type": "stream",
          "name": "stdout",
          "text": [
            "Digite um número par: 3\n",
            "O número não é par. Tente de novo: \n",
            "Digite um número par: 5\n",
            "O número não é par. Tente de novo: \n",
            "Digite um número par: 1\n",
            "O número não é par. Tente de novo: \n",
            "Digite um número par: 2\n",
            "O numero digitado é par:  2\n"
          ]
        }
      ]
    },
    {
      "cell_type": "code",
      "source": [
        "# Inicialize uma variável para armazenar a entrada do usuário\n",
        "numero = None\n",
        "\n",
        "# Use um loop while para solicitar a entrada até que um número par seja fornecido\n",
        "while numero is None or numero % 2 != 0:\n",
        "    try:\n",
        "        # Solicite a entrada do usuário e converta para um número inteiro\n",
        "        numero = int(input(\"Digite um número par: \"))\n",
        "\n",
        "        # Verifique se o número fornecido é par\n",
        "        if numero % 2 != 0:\n",
        "            print(\"O número fornecido não é par. Tente novamente.\")\n",
        "    except ValueError:\n",
        "        print(\"Por favor, digite um número válido.\")\n",
        "\n",
        "# O loop terminará quando um número par for fornecido\n",
        "print(\"Você digitou um número par:\", numero)\n"
      ],
      "metadata": {
        "colab": {
          "base_uri": "https://localhost:8080/"
        },
        "id": "0yEuvxesCpx3",
        "outputId": "cb4df949-338d-484f-80a7-68d8bb257705"
      },
      "execution_count": null,
      "outputs": [
        {
          "output_type": "stream",
          "name": "stdout",
          "text": [
            "Digite um número par: 1\n",
            "O número fornecido não é par. Tente novamente.\n",
            "Digite um número par: \n",
            "Por favor, digite um número válido.\n",
            "Digite um número par: 2\n",
            "Você digitou um número par: 2\n"
          ]
        }
      ]
    },
    {
      "cell_type": "code",
      "source": [
        "import random"
      ],
      "metadata": {
        "id": "_VvJoh7NPg-z"
      },
      "execution_count": 8,
      "outputs": []
    },
    {
      "cell_type": "code",
      "source": [
        "print(\"oi\")"
      ],
      "metadata": {
        "colab": {
          "base_uri": "https://localhost:8080/"
        },
        "id": "BHbvkav7PhGT",
        "outputId": "f84cc0d6-37a3-4015-b8ee-a298a9efec55"
      },
      "execution_count": 12,
      "outputs": [
        {
          "output_type": "stream",
          "name": "stdout",
          "text": [
            "oi\n"
          ]
        }
      ]
    },
    {
      "cell_type": "code",
      "source": [],
      "metadata": {
        "id": "L8tw1WMhPhI7"
      },
      "execution_count": null,
      "outputs": []
    },
    {
      "cell_type": "code",
      "source": [],
      "metadata": {
        "id": "KzutmuaYPhLE"
      },
      "execution_count": null,
      "outputs": []
    },
    {
      "cell_type": "code",
      "source": [],
      "metadata": {
        "id": "4qjemjWbPhNd"
      },
      "execution_count": null,
      "outputs": []
    },
    {
      "cell_type": "code",
      "source": [],
      "metadata": {
        "id": "rI_VVXv6PhRR"
      },
      "execution_count": null,
      "outputs": []
    },
    {
      "cell_type": "code",
      "source": [
        "import random\n",
        "\n",
        "def jogo_advinhacao():\n",
        "    numero_secreto = random.randint(1, 10)\n",
        "    tentativas = 0\n",
        "    limite_tentativas = 3\n",
        "\n",
        "    print(\"Bem-vindo ao jogo de adivinhação!\")\n",
        "    print(\"Tente adivinhar um número de 1 a 10.\")\n",
        "\n",
        "    while tentativas < limite_tentativas:\n",
        "        try:\n",
        "            palpite = int(input(\"Digite um número de 1 a 10: \"))\n",
        "            tentativas += 1\n",
        "            if palpite > 10:\n",
        "              print(\"Número maior que 10. Digite um número de 1 a 10: \")\n",
        "\n",
        "            if palpite == numero_secreto:\n",
        "                print(f\"Parabéns! Você acertou em {tentativas} tentativas.\")\n",
        "                break\n",
        "            elif palpite < numero_secreto:\n",
        "                print(\"Tente um número maior.\")\n",
        "            else:\n",
        "                print(\"Tente um número menor.\")\n",
        "        except ValueError:\n",
        "            print(\"Digite um número válido.\")\n",
        "\n",
        "        if tentativas == limite_tentativas:\n",
        "          print(\"Você atingiu o número de tentativas. O número era: \", numero_secreto)\n",
        "\n",
        "# Chama a função para iniciar o jogo\n",
        "jogo_advinhacao()\n",
        "\n"
      ],
      "metadata": {
        "colab": {
          "base_uri": "https://localhost:8080/"
        },
        "id": "lpJyBIPXPhTj",
        "outputId": "192d375c-303f-4bca-ac52-2de765e90937"
      },
      "execution_count": 11,
      "outputs": [
        {
          "output_type": "stream",
          "name": "stdout",
          "text": [
            "Bem-vindo ao jogo de adivinhação!\n",
            "Tente adivinhar um número de 1 a 10.\n",
            "Digite um número de 1 a 10: 5\n",
            "Tente um número maior.\n",
            "Digite um número de 1 a 10: 8\n",
            "Tente um número maior.\n",
            "Digite um número de 1 a 10: 9\n",
            "Parabéns! Você acertou em 3 tentativas.\n"
          ]
        }
      ]
    },
    {
      "cell_type": "code",
      "source": [
        "import random\n",
        "\n",
        "def jogo_advinhacao():\n",
        "    numero_secreto = random.randint(1, 10)\n",
        "    tentativas = 0\n",
        "    limite_tentativas = 3  # Defina o limite desejado\n",
        "\n",
        "    print(\"Bem-vindo ao jogo de adivinhação!\")\n",
        "    print(\"Tente adivinhar um número de 1 a 10.\")\n",
        "\n",
        "    while tentativas < limite_tentativas:\n",
        "        try:\n",
        "            palpite = int(input(\"Digite um número de 1 a 10: \"))\n",
        "\n",
        "            # Verifica se o palpite está dentro do intervalo permitido\n",
        "            if 1 <= palpite <= 10:\n",
        "                tentativas += 1\n",
        "\n",
        "                if palpite == numero_secreto:\n",
        "                    print(f\"Parabéns! Você acertou em {tentativas} tentativas.\")\n",
        "                    break\n",
        "                elif palpite < numero_secreto:\n",
        "                    print(\"Tente um número maior.\")\n",
        "                else:\n",
        "                    print(\"Tente um número menor.\")\n",
        "            else:\n",
        "                print(\"Digite um número dentro do intervalo permitido (1 a 10).\")\n",
        "        except ValueError:\n",
        "            print(\"Digite um número válido.\")\n",
        "\n",
        "    # Fora do loop, verifica se as tentativas foram esgotadas sem acerto\n",
        "    if tentativas == limite_tentativas:\n",
        "        print(f\"Você atingiu o limite de {limite_tentativas} tentativas. O número secreto era {numero_secreto}.\")\n",
        "\n",
        "# Chama a função para iniciar o jogo\n",
        "jogo_advinhacao()\n"
      ],
      "metadata": {
        "colab": {
          "base_uri": "https://localhost:8080/"
        },
        "id": "VzoQfGgVPhXz",
        "outputId": "eedf4c4c-663e-4aea-c093-0b89af7e26a5"
      },
      "execution_count": null,
      "outputs": [
        {
          "output_type": "stream",
          "name": "stdout",
          "text": [
            "Bem-vindo ao jogo de adivinhação!\n",
            "Tente adivinhar um número de 1 a 10.\n",
            "Digite um número de 1 a 10: 7\n",
            "Tente um número maior.\n",
            "Digite um número de 1 a 10: 9\n",
            "Tente um número menor.\n",
            "Digite um número de 1 a 10: 8\n",
            "Parabéns! Você acertou em 3 tentativas.\n",
            "Você atingiu o limite de 3 tentativas. O número secreto era 8.\n"
          ]
        }
      ]
    },
    {
      "cell_type": "code",
      "source": [
        "numeros_fornecidos = []"
      ],
      "metadata": {
        "id": "EpDNIDG-PhaE"
      },
      "execution_count": null,
      "outputs": []
    },
    {
      "cell_type": "code",
      "source": [],
      "metadata": {
        "colab": {
          "base_uri": "https://localhost:8080/",
          "height": 159
        },
        "id": "e92weyc9VsLX",
        "outputId": "07a7010c-7c43-485a-d45b-67958cbf8cb5"
      },
      "execution_count": null,
      "outputs": [
        {
          "name": "stdout",
          "output_type": "stream",
          "text": [
            "Digite um número: []\n"
          ]
        },
        {
          "output_type": "error",
          "ename": "ValueError",
          "evalue": "invalid literal for int() with base 10: '[]'",
          "traceback": [
            "\u001b[0;31m---------------------------------------------------------------------------\u001b[0m",
            "\u001b[0;31mValueError\u001b[0m                                Traceback (most recent call last)",
            "\u001b[0;32m<ipython-input-118-41da3f1dc7c7>\u001b[0m in \u001b[0;36m<cell line: 1>\u001b[0;34m()\u001b[0m\n\u001b[0;32m----> 1\u001b[0;31m \u001b[0mnumeros_fornecidos\u001b[0m \u001b[0;34m=\u001b[0m \u001b[0mint\u001b[0m\u001b[0;34m(\u001b[0m\u001b[0minput\u001b[0m\u001b[0;34m(\u001b[0m\u001b[0;34m\"Digite um número: \"\u001b[0m\u001b[0;34m)\u001b[0m\u001b[0;34m)\u001b[0m\u001b[0;34m\u001b[0m\u001b[0;34m\u001b[0m\u001b[0m\n\u001b[0m",
            "\u001b[0;31mValueError\u001b[0m: invalid literal for int() with base 10: '[]'"
          ]
        }
      ]
    },
    {
      "cell_type": "code",
      "source": [
        "numeros_fornecidos = []\n",
        "while True:\n",
        "  try:\n",
        "    numero = int(input(\"Digite um número: \"))\n",
        "    if numero < 0:\n",
        "      break\n",
        "    numeros_fornecidos.append(numero)\n",
        "    total = sum(numeros_fornecidos)\n",
        "    print(f\"Soma dos numéros é:  {total}\")\n",
        "  except ValueError:\n",
        "    print(\"Digite um número válido. \")\n",
        "\n",
        "print(\"Fim do programa.\")\n",
        "\n",
        "\n"
      ],
      "metadata": {
        "colab": {
          "base_uri": "https://localhost:8080/"
        },
        "id": "iVou3KeLVsNo",
        "outputId": "e1cde87b-23f4-456d-860b-30695312da7c"
      },
      "execution_count": null,
      "outputs": [
        {
          "output_type": "stream",
          "name": "stdout",
          "text": [
            "Digite um número: 1\n",
            "Soma dos numéros é:  1\n",
            "Digite um número: 2\n",
            "Soma dos numéros é:  3\n",
            "Digite um número: 3\n",
            "Soma dos numéros é:  6\n",
            "Digite um número: 4\n",
            "Soma dos numéros é:  10\n",
            "Digite um número: 5\n",
            "Soma dos numéros é:  15\n",
            "Digite um número: 6\n",
            "Soma dos numéros é:  21\n",
            "Digite um número: -1\n",
            "Fim do programa.\n"
          ]
        }
      ]
    },
    {
      "cell_type": "code",
      "source": [],
      "metadata": {
        "id": "MhSfhqYJVsQB"
      },
      "execution_count": null,
      "outputs": []
    },
    {
      "cell_type": "code",
      "source": [
        "numeros_fornecidos = []\n",
        "while True:\n",
        "    try:\n",
        "        numero = int(input(\"Digite um número (digite um número negativo para encerrar): \"))\n",
        "        if numero < 0:\n",
        "            break\n",
        "        numeros_fornecidos.append(numero)\n",
        "        total = sum(numeros_fornecidos)\n",
        "        print(f\"Soma dos números fornecidos: {total}\")\n",
        "    except ValueError:\n",
        "        print(\"Digite um número válido.\")\n",
        "\n",
        "print(\"Fim do programa.\")\n"
      ],
      "metadata": {
        "colab": {
          "base_uri": "https://localhost:8080/"
        },
        "id": "cc8ofkPTVsSA",
        "outputId": "ace96140-30ea-4970-cd17-c3144666397b"
      },
      "execution_count": null,
      "outputs": [
        {
          "output_type": "stream",
          "name": "stdout",
          "text": [
            "Digite um número (digite um número negativo para encerrar): 1\n",
            "Soma dos números fornecidos: 1\n",
            "Digite um número (digite um número negativo para encerrar): 2\n",
            "Soma dos números fornecidos: 3\n",
            "Digite um número (digite um número negativo para encerrar): 3\n",
            "Soma dos números fornecidos: 6\n",
            "Digite um número (digite um número negativo para encerrar): 4\n",
            "Soma dos números fornecidos: 10\n",
            "Digite um número (digite um número negativo para encerrar): -1\n",
            "Fim do programa.\n"
          ]
        }
      ]
    },
    {
      "cell_type": "code",
      "source": [],
      "metadata": {
        "id": "jZZnNM2sPhcs"
      },
      "execution_count": null,
      "outputs": []
    },
    {
      "cell_type": "code",
      "source": [],
      "metadata": {
        "id": "2Uqo-ZeWPheZ"
      },
      "execution_count": null,
      "outputs": []
    },
    {
      "cell_type": "code",
      "source": [
        "numero = 4\n",
        "\n",
        "quantidade_de_multiplos = 100\n",
        "\n",
        "for i in range(1, quantidade_de_multiplos + 1):\n",
        "\n",
        "  multiplo = numero * i\n",
        "\n",
        "  print(f\"{numero} x {i} = {multiplo} \")"
      ],
      "metadata": {
        "colab": {
          "base_uri": "https://localhost:8080/"
        },
        "id": "ORQFtXApPhgB",
        "outputId": "d7355f0c-4349-449d-875c-491bf89588f2"
      },
      "execution_count": null,
      "outputs": [
        {
          "output_type": "stream",
          "name": "stdout",
          "text": [
            "4 x 1 = 4 \n",
            "4 x 2 = 8 \n",
            "4 x 3 = 12 \n",
            "4 x 4 = 16 \n",
            "4 x 5 = 20 \n",
            "4 x 6 = 24 \n",
            "4 x 7 = 28 \n",
            "4 x 8 = 32 \n",
            "4 x 9 = 36 \n",
            "4 x 10 = 40 \n",
            "4 x 11 = 44 \n",
            "4 x 12 = 48 \n",
            "4 x 13 = 52 \n",
            "4 x 14 = 56 \n",
            "4 x 15 = 60 \n",
            "4 x 16 = 64 \n",
            "4 x 17 = 68 \n",
            "4 x 18 = 72 \n",
            "4 x 19 = 76 \n",
            "4 x 20 = 80 \n",
            "4 x 21 = 84 \n",
            "4 x 22 = 88 \n",
            "4 x 23 = 92 \n",
            "4 x 24 = 96 \n",
            "4 x 25 = 100 \n",
            "4 x 26 = 104 \n",
            "4 x 27 = 108 \n",
            "4 x 28 = 112 \n",
            "4 x 29 = 116 \n",
            "4 x 30 = 120 \n",
            "4 x 31 = 124 \n",
            "4 x 32 = 128 \n",
            "4 x 33 = 132 \n",
            "4 x 34 = 136 \n",
            "4 x 35 = 140 \n",
            "4 x 36 = 144 \n",
            "4 x 37 = 148 \n",
            "4 x 38 = 152 \n",
            "4 x 39 = 156 \n",
            "4 x 40 = 160 \n",
            "4 x 41 = 164 \n",
            "4 x 42 = 168 \n",
            "4 x 43 = 172 \n",
            "4 x 44 = 176 \n",
            "4 x 45 = 180 \n",
            "4 x 46 = 184 \n",
            "4 x 47 = 188 \n",
            "4 x 48 = 192 \n",
            "4 x 49 = 196 \n",
            "4 x 50 = 200 \n",
            "4 x 51 = 204 \n",
            "4 x 52 = 208 \n",
            "4 x 53 = 212 \n",
            "4 x 54 = 216 \n",
            "4 x 55 = 220 \n",
            "4 x 56 = 224 \n",
            "4 x 57 = 228 \n",
            "4 x 58 = 232 \n",
            "4 x 59 = 236 \n",
            "4 x 60 = 240 \n",
            "4 x 61 = 244 \n",
            "4 x 62 = 248 \n",
            "4 x 63 = 252 \n",
            "4 x 64 = 256 \n",
            "4 x 65 = 260 \n",
            "4 x 66 = 264 \n",
            "4 x 67 = 268 \n",
            "4 x 68 = 272 \n",
            "4 x 69 = 276 \n",
            "4 x 70 = 280 \n",
            "4 x 71 = 284 \n",
            "4 x 72 = 288 \n",
            "4 x 73 = 292 \n",
            "4 x 74 = 296 \n",
            "4 x 75 = 300 \n",
            "4 x 76 = 304 \n",
            "4 x 77 = 308 \n",
            "4 x 78 = 312 \n",
            "4 x 79 = 316 \n",
            "4 x 80 = 320 \n",
            "4 x 81 = 324 \n",
            "4 x 82 = 328 \n",
            "4 x 83 = 332 \n",
            "4 x 84 = 336 \n",
            "4 x 85 = 340 \n",
            "4 x 86 = 344 \n",
            "4 x 87 = 348 \n",
            "4 x 88 = 352 \n",
            "4 x 89 = 356 \n",
            "4 x 90 = 360 \n",
            "4 x 91 = 364 \n",
            "4 x 92 = 368 \n",
            "4 x 93 = 372 \n",
            "4 x 94 = 376 \n",
            "4 x 95 = 380 \n",
            "4 x 96 = 384 \n",
            "4 x 97 = 388 \n",
            "4 x 98 = 392 \n",
            "4 x 99 = 396 \n",
            "4 x 100 = 400 \n"
          ]
        }
      ]
    },
    {
      "cell_type": "code",
      "source": [
        "# Defina o número para o qual você quer encontrar os múltiplos\n",
        "numero = 3\n",
        "\n",
        "# Defina quantos múltiplos você deseja exibir\n",
        "quantidade_multiplos = 10\n",
        "\n",
        "# Use um loop for para encontrar e exibir os múltiplos\n",
        "for i in range(1, quantidade_multiplos + 1):\n",
        "    # Calcule o múltiplo\n",
        "    multiplo = numero * i\n",
        "\n",
        "    # Exiba o múltiplo\n",
        "    print(f\"{numero} x {i} = {multiplo}\")\n"
      ],
      "metadata": {
        "colab": {
          "base_uri": "https://localhost:8080/"
        },
        "id": "p-Jhy3oGPhmq",
        "outputId": "02888c54-b127-4b84-c86d-03df63b2ea33"
      },
      "execution_count": null,
      "outputs": [
        {
          "output_type": "stream",
          "name": "stdout",
          "text": [
            "3 x 1 = 3\n",
            "3 x 2 = 6\n",
            "3 x 3 = 9\n",
            "3 x 4 = 12\n",
            "3 x 5 = 15\n",
            "3 x 6 = 18\n",
            "3 x 7 = 21\n",
            "3 x 8 = 24\n",
            "3 x 9 = 27\n",
            "3 x 10 = 30\n"
          ]
        }
      ]
    }
  ]
}