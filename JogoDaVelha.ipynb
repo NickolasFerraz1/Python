{
  "nbformat": 4,
  "nbformat_minor": 0,
  "metadata": {
    "colab": {
      "provenance": [],
      "authorship_tag": "ABX9TyMFy7jourT8P41SlONECTeh",
      "include_colab_link": true
    },
    "kernelspec": {
      "name": "python3",
      "display_name": "Python 3"
    },
    "language_info": {
      "name": "python"
    }
  },
  "cells": [
    {
      "cell_type": "markdown",
      "metadata": {
        "id": "view-in-github",
        "colab_type": "text"
      },
      "source": [
        "<a href=\"https://colab.research.google.com/github/NickolasFerraz1/Python/blob/main/JogoDaVelha.ipynb\" target=\"_parent\"><img src=\"https://colab.research.google.com/assets/colab-badge.svg\" alt=\"Open In Colab\"/></a>"
      ]
    },
    {
      "cell_type": "markdown",
      "source": [
        "#Criando um jogo da velha\n"
      ],
      "metadata": {
        "id": "PDuVSn7PX-IR"
      }
    },
    {
      "cell_type": "markdown",
      "source": [
        "#Passo a Passo para criar um Tic Tac Toe\n",
        "##Criar o \"template\"\n",
        "##Criar a verificação de ganhador\n",
        "##Pedir para o usuário escolher se quer ser X ou O\n",
        "##Começar o jogo\n",
        "##Verificar ganhador\n",
        "##Se todos os espaços forem ocupados, verificar o empate"
      ],
      "metadata": {
        "id": "4lkWX0iBOMAE"
      }
    },
    {
      "cell_type": "code",
      "source": [],
      "metadata": {
        "id": "XT4bfN8UbjtB"
      },
      "execution_count": null,
      "outputs": []
    },
    {
      "cell_type": "code",
      "source": [
        "#print do início do jogo e para o usuário entender onde jogar\n",
        "def print_inicial():\n",
        "    print(\"Bem-vindo ao Jogo da Velha!\")\n",
        "    print(\"Para jogar, escolha um número de 1 a 9 para marcar a posição desejada no tabuleiro:\")\n",
        "    print(\"1|2|3\")\n",
        "    print(\"-+-+-\")\n",
        "    print(\"4|5|6\")\n",
        "    print(\"-+-+-\")\n",
        "    print(\"7|8|9\")\n",
        "    print(\"\")\n",
        "#criando o jogo da velha e relacionando-o com números de 1 a 9\n",
        "tabuleiro = {1: ' ' , 2: ' ' , 3: ' ' ,\n",
        "            4: ' ' , 5: ' ' , 6: ' ' ,\n",
        "            7: ' ' , 8: ' ' , 9: ' ' }\n",
        "\n",
        "#Onde vão ser guardadas as jogadas do usuário\n",
        "chaves_tabuleiro = []\n",
        "#imprimindo o tabuleiro\n",
        "def imprimir_tabuleiro(tabuleiro):\n",
        "    print(tabuleiro[1] + '|' + tabuleiro[2] + '|' + tabuleiro[3])\n",
        "    print('-+-+-')\n",
        "    print(tabuleiro[4] + '|' + tabuleiro[5] + '|' + tabuleiro[6])\n",
        "    print('-+-+-')\n",
        "    print(tabuleiro[7] + '|' + tabuleiro[8] + '|' + tabuleiro[9])\n",
        "#jogada do usuário\n",
        "for chave in tabuleiro:\n",
        "    chaves_tabuleiro.append(chave)\n",
        "\n",
        "def verificar_vencedor(tabuleiro):\n",
        "    for i in range(3):\n",
        "        # Verificando as linhas\n",
        "        #quando i=0 -> [1][2][3]\n",
        "        #quando i=1 -> [4][5][6]\n",
        "        #quando i=2 -> [7][8][9]\n",
        "        if tabuleiro[i*3+1] == tabuleiro[i*3+2] == tabuleiro[i*3+3] != ' ':\n",
        "            return True\n",
        "        # Verificando as colunas\n",
        "        #quando i=0 -> [1][4][7]\n",
        "        #quando i=1 -> [2][5][8]\n",
        "        #quando i=2 -> [3][6][9]\n",
        "        if tabuleiro[1+i] == tabuleiro[4+i] == tabuleiro[7+i] != ' ':\n",
        "            return True\n",
        "    # Verificando as diagonais\n",
        "    if tabuleiro[1] == tabuleiro[5] == tabuleiro[9] != ' ':\n",
        "        return True\n",
        "    if tabuleiro[3] == tabuleiro[5] == tabuleiro[7] != ' ':\n",
        "        return True\n",
        "    return False\n",
        "#verifica o tabuleiro cheio\n",
        "def tabuleiro_cheio(tabuleiro):\n",
        "    for chave in tabuleiro:\n",
        "        if tabuleiro[chave] == ' ':\n",
        "            return False\n",
        "    return True\n",
        "\n",
        "def jogo_da_velha():\n",
        "    tabuleiro_atual = tabuleiro.copy()\n",
        "    jogador = input(\"Digite se quer ser X ou O:\").upper()\n",
        "    while jogador not in ['X', 'O']:\n",
        "        print(\"Escolha inválida. Digite 'X' ou 'O'.\")\n",
        "        jogador = input(\"Digite se quer ser X ou O:\").upper()\n",
        "\n",
        "    print_inicial()\n",
        "    #imprime o tabuleiro e começa o jogo\n",
        "    imprimir_tabuleiro(tabuleiro_atual)\n",
        "    #trava a escolha de 1 a 9 (referente as casas do jogo da velha)\n",
        "    #trava a escolha para uma casa não ocupada\n",
        "    while True:\n",
        "        escolha = int(input(\"Escolha a posição (1-9): \"))\n",
        "        if escolha not in tabuleiro.keys() or tabuleiro_atual[escolha] != ' ':\n",
        "            print(\"Escolha inválida. Tente novamente.\")\n",
        "            continue\n",
        "\n",
        "        tabuleiro_atual[escolha] = jogador\n",
        "        imprimir_tabuleiro(tabuleiro_atual)\n",
        "#verifica vitória\n",
        "        if verificar_vencedor(tabuleiro_atual):\n",
        "            print(f\"Parabéns! O jogador '{jogador}' venceu!\")\n",
        "            break\n",
        "#verifica empate\n",
        "        if tabuleiro_cheio(tabuleiro_atual):\n",
        "            print(\"O jogo empatou!\")\n",
        "            break\n",
        "#Faz a troca de \"X\" e \"O\"\n",
        "        jogador = 'O' if jogador == 'X' else 'X'\n",
        "#verificação para jogar novamente\n",
        "jogo_da_velha()\n",
        "def jogar_novamente():\n",
        "  resposta = input(\"Digite sim se quiser jogar novamente. \").lower()\n",
        "  if resposta == \"sim\":\n",
        "    jogo_da_velha()\n",
        "  else:\n",
        "    print(\"Obrigado por jogar!\")\n",
        "jogar_novamente()"
      ],
      "metadata": {
        "colab": {
          "base_uri": "https://localhost:8080/"
        },
        "id": "5fel0fdUAQpQ",
        "outputId": "98048c3a-7470-4343-df53-f09f9a2489ea"
      },
      "execution_count": 6,
      "outputs": [
        {
          "output_type": "stream",
          "name": "stdout",
          "text": [
            "Digite se quer ser X ou O:x\n",
            "Bem-vindo ao Jogo da Velha!\n",
            "Para jogar, escolha um número de 1 a 9 para marcar a posição desejada no tabuleiro:\n",
            "1|2|3\n",
            "-+-+-\n",
            "4|5|6\n",
            "-+-+-\n",
            "7|8|9\n",
            "\n",
            " | | \n",
            "-+-+-\n",
            " | | \n",
            "-+-+-\n",
            " | | \n",
            "Escolha a posição (1-9): 1\n",
            "X| | \n",
            "-+-+-\n",
            " | | \n",
            "-+-+-\n",
            " | | \n",
            "Escolha a posição (1-9): 3\n",
            "X| |O\n",
            "-+-+-\n",
            " | | \n",
            "-+-+-\n",
            " | | \n",
            "Escolha a posição (1-9): 4\n",
            "X| |O\n",
            "-+-+-\n",
            "X| | \n",
            "-+-+-\n",
            " | | \n",
            "Escolha a posição (1-9): 5\n",
            "X| |O\n",
            "-+-+-\n",
            "X|O| \n",
            "-+-+-\n",
            " | | \n",
            "Escolha a posição (1-9): 7\n",
            "X| |O\n",
            "-+-+-\n",
            "X|O| \n",
            "-+-+-\n",
            "X| | \n",
            "Parabéns! O jogador 'X' venceu!\n",
            "Digite sim se quiser jogar novamente. no\n",
            "Obrigado por jogar\n"
          ]
        }
      ]
    }
  ]
}